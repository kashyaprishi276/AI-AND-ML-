{
 "cells": [
  {
   "cell_type": "code",
   "execution_count": 1,
   "id": "c8464594",
   "metadata": {},
   "outputs": [],
   "source": [
    "import pandas as pd\n",
    "import numpy as np\n",
    "import matplotlib.pyplot as plt\n",
    "from sklearn.datasets import make_blobs\n",
    "from sklearn.cluster import KMeans\n",
    "from sklearn.metrics import classification_report,confusion_matrix,accuracy_score,f1_score,plot_confusion_matrix"
   ]
  },
  {
   "cell_type": "code",
   "execution_count": 2,
   "id": "94f202b3",
   "metadata": {},
   "outputs": [],
   "source": [
    "X, y= make_blobs(n_samples=500, centers=4, n_features=11,random_state=0,cluster_std=0.60)"
   ]
  },
  {
   "cell_type": "code",
   "execution_count": 3,
   "id": "971a0632",
   "metadata": {},
   "outputs": [
    {
     "data": {
      "text/plain": [
       "(500, 11)"
      ]
     },
     "execution_count": 3,
     "metadata": {},
     "output_type": "execute_result"
    }
   ],
   "source": [
    "X.shape"
   ]
  },
  {
   "cell_type": "code",
   "execution_count": 4,
   "id": "a854243e",
   "metadata": {},
   "outputs": [
    {
     "data": {
      "text/plain": [
       "array([0, 0, 2, 0, 1, 1, 3, 2, 1, 1, 2, 1, 0, 2, 0, 2, 2, 3, 0, 0, 3, 1,\n",
       "       3, 1, 0, 2, 1, 2, 3, 1, 1, 1, 2, 1, 0, 3, 1, 2, 0, 3, 1, 0, 0, 0,\n",
       "       1, 1, 2, 0, 1, 3, 0, 1, 0, 2, 0, 1, 1, 3, 0, 0, 3, 1, 3, 2, 2, 0,\n",
       "       2, 0, 2, 3, 3, 3, 3, 1, 3, 2, 1, 3, 3, 1, 2, 2, 3, 3, 1, 3, 3, 2,\n",
       "       3, 0, 3, 2, 1, 1, 3, 1, 1, 2, 2, 0, 2, 2, 3, 2, 1, 0, 1, 3, 3, 3,\n",
       "       3, 1, 1, 0, 0, 1, 0, 0, 0, 3, 1, 3, 0, 3, 1, 2, 1, 1, 3, 0, 0, 2,\n",
       "       1, 1, 2, 1, 0, 0, 3, 1, 3, 1, 3, 1, 2, 2, 1, 2, 3, 1, 1, 1, 2, 0,\n",
       "       0, 1, 2, 2, 0, 2, 3, 2, 1, 3, 3, 0, 3, 1, 2, 2, 3, 0, 0, 0, 3, 3,\n",
       "       1, 0, 3, 3, 2, 0, 2, 3, 0, 0, 2, 3, 2, 0, 3, 3, 1, 2, 3, 1, 2, 2,\n",
       "       3, 2, 0, 1, 2, 1, 3, 1, 3, 3, 2, 0, 3, 0, 1, 1, 2, 3, 3, 3, 3, 3,\n",
       "       2, 2, 3, 2, 1, 0, 2, 1, 0, 0, 1, 3, 2, 0, 3, 3, 3, 2, 2, 1, 2, 3,\n",
       "       0, 2, 2, 0, 3, 1, 3, 3, 1, 1, 1, 2, 1, 1, 2, 1, 2, 0, 0, 1, 0, 1,\n",
       "       0, 2, 2, 1, 2, 0, 3, 0, 0, 1, 1, 0, 0, 1, 1, 1, 1, 1, 1, 3, 1, 3,\n",
       "       3, 3, 3, 0, 3, 3, 1, 2, 0, 0, 2, 1, 3, 3, 0, 1, 1, 2, 3, 1, 2, 2,\n",
       "       2, 1, 1, 0, 1, 3, 3, 2, 2, 1, 3, 2, 3, 0, 0, 1, 0, 3, 3, 0, 2, 1,\n",
       "       2, 1, 1, 1, 2, 3, 1, 2, 0, 1, 2, 1, 1, 3, 0, 2, 1, 1, 1, 0, 0, 3,\n",
       "       1, 2, 0, 2, 1, 3, 3, 0, 2, 1, 0, 2, 0, 1, 1, 1, 3, 1, 2, 2, 0, 0,\n",
       "       0, 0, 1, 0, 3, 3, 1, 0, 3, 0, 3, 3, 2, 2, 0, 0, 0, 0, 2, 2, 0, 0,\n",
       "       3, 1, 2, 2, 2, 2, 2, 2, 0, 0, 3, 3, 3, 2, 2, 2, 1, 0, 0, 3, 2, 3,\n",
       "       0, 3, 1, 1, 1, 2, 2, 3, 3, 2, 0, 2, 2, 0, 3, 3, 0, 0, 3, 0, 3, 2,\n",
       "       2, 0, 0, 0, 0, 1, 2, 2, 1, 1, 1, 0, 2, 2, 0, 2, 2, 1, 2, 2, 0, 2,\n",
       "       3, 3, 2, 2, 3, 0, 0, 3, 0, 3, 1, 2, 3, 3, 0, 3, 2, 3, 0, 3, 3, 1,\n",
       "       0, 0, 2, 0, 2, 0, 0, 0, 0, 3, 2, 1, 3, 0, 2, 0])"
      ]
     },
     "execution_count": 4,
     "metadata": {},
     "output_type": "execute_result"
    }
   ],
   "source": [
    "y"
   ]
  },
  {
   "cell_type": "code",
   "execution_count": 5,
   "id": "2da15787",
   "metadata": {},
   "outputs": [],
   "source": [
    "#applying kmeans-classifier\n",
    "kmeans = KMeans(n_clusters=3,init = 'k-means++',max_iter = 100, n_init = 10,random_state = 0) "
   ]
  },
  {
   "cell_type": "code",
   "execution_count": 7,
   "id": "3b853ba3",
   "metadata": {},
   "outputs": [
    {
     "name": "stdout",
     "output_type": "stream",
     "text": [
      "[[ 0.96893192  4.30601448  1.93503836  0.85274792 -1.54746198  2.92040015\n",
      "  -1.23236937  7.87332723  9.24154166 -2.25537218  5.76718938]\n",
      " [ 0.27854908 -1.96761149 -2.56162859  2.49478261 -2.42097581  8.83000885\n",
      "   2.05726364 -2.24608965 -3.01614056  4.64439556 -4.82462932]\n",
      " [ 0.59416053  1.34686645  8.50468676 -8.56350873 -8.35790977 -9.59589856\n",
      "   6.72758859  5.41936149  7.35728625  9.58289328  5.96796625]]\n"
     ]
    },
    {
     "data": {
      "text/plain": [
       "<matplotlib.legend.Legend at 0x26d58bd3f70>"
      ]
     },
     "execution_count": 7,
     "metadata": {},
     "output_type": "execute_result"
    },
    {
     "data": {
      "image/png": "[encoded data removed]",
      "text/plain": [
       "<Figure size 432x288 with 1 Axes>"
      ]
     },
     "metadata": {
      "needs_background": "light"
     },
     "output_type": "display_data"
    }
   ],
   "source": [
    "#Predicting the cluster for our data\n",
    "y_kmeans = kmeans.fit_predict(X)\n",
    "print(kmeans.cluster_centers_)\n",
    "#Visualising the clusters\n",
    "X = np.array(X)\n",
    "plt.scatter(X[y_kmeans == 0, 0], X[y_kmeans == 0, 1], s = 100, c = 'red', label = 'Iris-setosa')\n",
    "plt.scatter(X[y_kmeans == 1, 0], X[y_kmeans == 1, 1], s = 100, c = 'blue', label = 'Iris-versicolour')\n",
    "plt.scatter(X[y_kmeans == 2, 0], X[y_kmeans == 2, 1], s = 100, c = 'green', label = 'Iris-virginica')\n",
    "\n",
    "#Plotting the centroids of the clusters\n",
    "plt.scatter(kmeans.cluster_centers_[:, 0], kmeans.cluster_centers_[:,1], s = 100, c = 'yellow', label = 'Centroids')\n",
    "\n",
    "plt.legend()"
   ]
  },
  {
   "cell_type": "code",
   "execution_count": 8,
   "id": "e5b283e4",
   "metadata": {},
   "outputs": [
    {
     "name": "stdout",
     "output_type": "stream",
     "text": [
      "              precision    recall  f1-score   support\n",
      "\n",
      "           0       1.00      1.00      1.00       125\n",
      "           1       0.00      0.00      0.00       125\n",
      "           2       0.00      0.00      0.00       125\n",
      "           3       0.00      0.00      0.00       125\n",
      "\n",
      "    accuracy                           0.25       500\n",
      "   macro avg       0.25      0.25      0.25       500\n",
      "weighted avg       0.25      0.25      0.25       500\n",
      "\n"
     ]
    },
    {
     "name": "stderr",
     "output_type": "stream",
     "text": [
      "C:\\Users\\dell\\anaconda3\\lib\\site-packages\\sklearn\\metrics\\_classification.py:1308: UndefinedMetricWarning: Precision and F-score are ill-defined and being set to 0.0 in labels with no predicted samples. Use `zero_division` parameter to control this behavior.\n",
      "  _warn_prf(average, modifier, msg_start, len(result))\n",
      "C:\\Users\\dell\\anaconda3\\lib\\site-packages\\sklearn\\metrics\\_classification.py:1308: UndefinedMetricWarning: Precision and F-score are ill-defined and being set to 0.0 in labels with no predicted samples. Use `zero_division` parameter to control this behavior.\n",
      "  _warn_prf(average, modifier, msg_start, len(result))\n",
      "C:\\Users\\dell\\anaconda3\\lib\\site-packages\\sklearn\\metrics\\_classification.py:1308: UndefinedMetricWarning: Precision and F-score are ill-defined and being set to 0.0 in labels with no predicted samples. Use `zero_division` parameter to control this behavior.\n",
      "  _warn_prf(average, modifier, msg_start, len(result))\n"
     ]
    }
   ],
   "source": [
    "print(classification_report(y,y_kmeans))"
   ]
  },
  {
   "cell_type": "code",
   "execution_count": 9,
   "id": "01cccb9d",
   "metadata": {},
   "outputs": [],
   "source": [
    "K = 4\n"
   ]
  },
  {
   "cell_type": "code",
   "execution_count": 10,
   "id": "af3611f2",
   "metadata": {},
   "outputs": [],
   "source": [
    "def similarity(vec1, vec2):\n",
    "    vec1 = np.ravel(vec1)\n",
    "    vec1 = vec1/np.linalg.norm(vec1)\n",
    "    \n",
    "    vec2 = np.ravel(vec2)\n",
    "    vec2 = vec2/np.linalg.norm(vec2)\n",
    "    \n",
    "    angle = np.dot(vec1, vec2)\n",
    "    return angle"
   ]
  },
  {
   "cell_type": "code",
   "execution_count": 11,
   "id": "bb991c1f",
   "metadata": {},
   "outputs": [],
   "source": [
    "#initializing centriod"
   ]
  },
  {
   "cell_type": "code",
   "execution_count": 12,
   "id": "b1205455",
   "metadata": {},
   "outputs": [],
   "source": [
    "def init_centroids(K, data_arr, label_arr):\n",
    "    mean_cent = []\n",
    "    size_cent = []\n",
    "    cluster_cent = [[] for i in range(K)]\n",
    "    \n",
    "    for i in range(len(data_arr)):\n",
    "        for k in range(K):\n",
    "            if label_arr[i]==k:\n",
    "                data_pt = np.ravel(data_arr[i,:])/np.linalg.norm(np.ravel(data_arr[i,:]))\n",
    "                cluster_cent[k].append(data_pt)\n",
    "    for k in range(K):\n",
    "        cluster_mat = np.matrix(cluster_cent[k])\n",
    "        pointNum = cluster_mat.shape[0]\n",
    "        mean_k = np.mean(cluster_mat, axis=0)\n",
    "        mean_k = np.ravel(mean_k)/np.linalg.norm(np.ravel(mean_k))\n",
    "        mean_cent.append(mean_k)\n",
    "        size_cent.append(pointNum)\n",
    "    return mean_cent, size_cent"
   ]
  },
  {
   "cell_type": "code",
   "execution_count": 13,
   "id": "b12b6539",
   "metadata": {},
   "outputs": [],
   "source": [
    "#updating labels "
   ]
  },
  {
   "cell_type": "code",
   "execution_count": 14,
   "id": "fe24c88b",
   "metadata": {},
   "outputs": [],
   "source": [
    "def label_update(prev_mean, data_arr, label_arr):\n",
    "    for i in range(len(data_arr)):\n",
    "        sim_pt = []\n",
    "        for k in range(K):\n",
    "            sim = similarity(data_arr[i], prev_mean[k])\n",
    "            sim_pt.append(sim)\n",
    "        sim_arr = np.array(sim_pt)\n",
    "        new_label = np.argmax(sim_arr)\n",
    "        label_arr[i] = new_label\n",
    "    return label_arr"
   ]
  },
  {
   "cell_type": "code",
   "execution_count": 15,
   "id": "554f148e",
   "metadata": {},
   "outputs": [],
   "source": [
    "#updatingclusters "
   ]
  },
  {
   "cell_type": "code",
   "execution_count": 16,
   "id": "648c12e3",
   "metadata": {},
   "outputs": [],
   "source": [
    "def update_centroids(K, prev_mean, prev_size, data_arr, label_arr):\n",
    "    cluster_pts = [[] for k in range(K)]\n",
    "    \n",
    "    for i in range(data_arr.shape[0]):\n",
    "        for k in range(K):\n",
    "            if label_arr[i]==k:\n",
    "                data_pt = np.ravel(data_arr[i,:])/np.linalg.norm(np.ravel(data_arr[i,:]))\n",
    "                cluster_pts[k].append(data_pt)\n",
    "    for k in range(K):\n",
    "        print(len(cluster_pts[k]))\n",
    "        if len(cluster_pts[k])!=0:\n",
    "            cluster_mat = np.matrix(cluster_pts[k])\n",
    "            pointNum = cluster_mat.shape[0]\n",
    "            mean_k = np.mean(cluster_mat, axis=0)\n",
    "            mean_k = np.ravel(mean_k)/np.linalg.norm(np.ravel(mean_k))\n",
    "            prev_mean[k] = mean_k\n",
    "            prev_size[k] = pointNum\n",
    "        new_mean = prev_mean\n",
    "        new_size = prev_size\n",
    "    return new_mean, new_size"
   ]
  },
  {
   "cell_type": "code",
   "execution_count": 17,
   "id": "9d90a937",
   "metadata": {},
   "outputs": [],
   "source": [
    "#calling and applying spherical-kmeans"
   ]
  },
  {
   "cell_type": "code",
   "execution_count": 20,
   "id": "c6dbae7a",
   "metadata": {},
   "outputs": [],
   "source": [
    "def SphericalKMeans(data_arr, label_arr, maxIter):\n",
    "    prev_mean, prev_size = init_centroids(K, data_arr, label_arr)\n",
    "    print(prev_size)\n",
    "    for iter in range(maxIter):\n",
    "        new_label = label_update(prev_mean, data_arr, label_arr)\n",
    "        new_mean, new_size = update_centroids(K, prev_mean, prev_size, data_arr, label_arr)\n",
    "        label_arr = new_label\n",
    "        prev_mean = new_mean\n",
    "        prev_size = new_size\n",
    "        print(f\"Iteration: {iter} is completed!\")\n",
    "    return new_mean, new_size,label_arr"
   ]
  },
  {
   "cell_type": "code",
   "execution_count": 24,
   "id": "3873d66f",
   "metadata": {},
   "outputs": [
    {
     "name": "stdout",
     "output_type": "stream",
     "text": [
      "[125, 125, 125, 125]\n",
      "125\n",
      "125\n",
      "125\n",
      "125\n",
      "Iteration: 0 is completed!\n",
      "125\n",
      "125\n",
      "125\n",
      "125\n",
      "Iteration: 1 is completed!\n",
      "125\n",
      "125\n",
      "125\n",
      "125\n",
      "Iteration: 2 is completed!\n",
      "125\n",
      "125\n",
      "125\n",
      "125\n",
      "Iteration: 3 is completed!\n",
      "125\n",
      "125\n",
      "125\n",
      "125\n",
      "Iteration: 4 is completed!\n",
      "125\n",
      "125\n",
      "125\n",
      "125\n",
      "Iteration: 5 is completed!\n",
      "125\n",
      "125\n",
      "125\n",
      "125\n",
      "Iteration: 6 is completed!\n",
      "125\n",
      "125\n",
      "125\n",
      "125\n",
      "Iteration: 7 is completed!\n",
      "125\n",
      "125\n",
      "125\n",
      "125\n",
      "Iteration: 8 is completed!\n",
      "125\n",
      "125\n",
      "125\n",
      "125\n",
      "Iteration: 9 is completed!\n",
      "125\n",
      "125\n",
      "125\n",
      "125\n",
      "Iteration: 10 is completed!\n",
      "125\n",
      "125\n",
      "125\n",
      "125\n",
      "Iteration: 11 is completed!\n",
      "125\n",
      "125\n",
      "125\n",
      "125\n",
      "Iteration: 12 is completed!\n",
      "125\n",
      "125\n",
      "125\n",
      "125\n",
      "Iteration: 13 is completed!\n",
      "125\n",
      "125\n",
      "125\n",
      "125\n",
      "Iteration: 14 is completed!\n",
      "125\n",
      "125\n",
      "125\n",
      "125\n",
      "Iteration: 15 is completed!\n",
      "125\n",
      "125\n",
      "125\n",
      "125\n",
      "Iteration: 16 is completed!\n",
      "125\n",
      "125\n",
      "125\n",
      "125\n",
      "Iteration: 17 is completed!\n",
      "125\n",
      "125\n",
      "125\n",
      "125\n",
      "Iteration: 18 is completed!\n",
      "125\n",
      "125\n",
      "125\n",
      "125\n",
      "Iteration: 19 is completed!\n",
      "125\n",
      "125\n",
      "125\n",
      "125\n",
      "Iteration: 20 is completed!\n",
      "125\n",
      "125\n",
      "125\n",
      "125\n",
      "Iteration: 21 is completed!\n",
      "125\n",
      "125\n",
      "125\n",
      "125\n",
      "Iteration: 22 is completed!\n",
      "125\n",
      "125\n",
      "125\n",
      "125\n",
      "Iteration: 23 is completed!\n",
      "125\n",
      "125\n",
      "125\n",
      "125\n",
      "Iteration: 24 is completed!\n",
      "125\n",
      "125\n",
      "125\n",
      "125\n",
      "Iteration: 25 is completed!\n",
      "125\n",
      "125\n",
      "125\n",
      "125\n",
      "Iteration: 26 is completed!\n",
      "125\n",
      "125\n",
      "125\n",
      "125\n",
      "Iteration: 27 is completed!\n",
      "125\n",
      "125\n",
      "125\n",
      "125\n",
      "Iteration: 28 is completed!\n",
      "125\n",
      "125\n",
      "125\n",
      "125\n",
      "Iteration: 29 is completed!\n"
     ]
    }
   ],
   "source": [
    "mean_cent, size_cent,label_arr = SphericalKMeans(X, y, 30)"
   ]
  },
  {
   "cell_type": "code",
   "execution_count": 25,
   "id": "de4bb1b6",
   "metadata": {},
   "outputs": [
    {
     "name": "stdout",
     "output_type": "stream",
     "text": [
      "(4, 11)\n",
      "[0.25 0.25 0.25 0.25]\n"
     ]
    }
   ],
   "source": [
    "mean_cent = np.array(mean_cent)\n",
    "print(mean_cent.shape)\n",
    "print(size_cent/np.sum(size_cent))"
   ]
  },
  {
   "cell_type": "code",
   "execution_count": 26,
   "id": "177bafb3",
   "metadata": {},
   "outputs": [
    {
     "name": "stderr",
     "output_type": "stream",
     "text": [
      "C:\\Users\\dell\\anaconda3\\lib\\site-packages\\sklearn\\manifold\\_spectral_embedding.py:260: UserWarning: Graph is not fully connected, spectral embedding may not work as expected.\n",
      "  warnings.warn(\n"
     ]
    },
    {
     "data": {
      "image/png": "[encoded data removed]",
      "text/plain": [
       "<Figure size 432x288 with 1 Axes>"
      ]
     },
     "metadata": {
      "needs_background": "light"
     },
     "output_type": "display_data"
    }
   ],
   "source": [
    "from sklearn.cluster import SpectralClustering\n",
    "model = SpectralClustering(n_clusters=4, affinity='nearest_neighbors',\n",
    "                           assign_labels='kmeans')\n",
    "labels = model.fit_predict(X)\n",
    "plt.scatter(X[:, 0], X[:, 1], c=labels,s=50, cmap='viridis');"
   ]
  },
  {
   "cell_type": "code",
   "execution_count": 27,
   "id": "312b970d",
   "metadata": {},
   "outputs": [
    {
     "data": {
      "text/plain": [
       "array([2, 2, 0, 2, 1, 1, 3, 0, 1, 1, 0, 1, 2, 0, 2, 0, 0, 3, 2, 2, 3, 1,\n",
       "       3, 1, 2, 0, 1, 0, 3, 1, 1, 1, 0, 1, 2, 3, 1, 0, 2, 3, 1, 2, 2, 2,\n",
       "       1, 1, 0, 2, 1, 3, 2, 1, 2, 0, 2, 1, 1, 3, 2, 2, 3, 1, 3, 0, 0, 2,\n",
       "       0, 2, 0, 3, 3, 3, 3, 1, 3, 0, 1, 3, 3, 1, 0, 0, 3, 3, 1, 3, 3, 0,\n",
       "       3, 2, 3, 0, 1, 1, 3, 1, 1, 0, 0, 2, 0, 0, 3, 0, 1, 2, 1, 3, 3, 3,\n",
       "       3, 1, 1, 2, 2, 1, 2, 2, 2, 3, 1, 3, 2, 3, 1, 0, 1, 1, 3, 2, 2, 0,\n",
       "       1, 1, 0, 1, 2, 2, 3, 1, 3, 1, 3, 1, 0, 0, 1, 0, 3, 1, 1, 1, 0, 2,\n",
       "       2, 1, 0, 0, 2, 0, 3, 0, 1, 3, 3, 2, 3, 1, 0, 0, 3, 2, 2, 2, 3, 3,\n",
       "       1, 2, 3, 3, 0, 2, 0, 3, 2, 2, 0, 3, 0, 2, 3, 3, 1, 0, 3, 1, 0, 0,\n",
       "       3, 0, 2, 1, 0, 1, 3, 1, 3, 3, 0, 2, 3, 2, 1, 1, 0, 3, 3, 3, 3, 3,\n",
       "       0, 0, 3, 0, 1, 2, 0, 1, 2, 2, 1, 3, 0, 2, 3, 3, 3, 0, 0, 1, 0, 3,\n",
       "       2, 0, 0, 2, 3, 1, 3, 3, 1, 1, 1, 0, 1, 1, 0, 1, 0, 2, 2, 1, 2, 1,\n",
       "       2, 0, 0, 1, 0, 2, 3, 2, 2, 1, 1, 2, 2, 1, 1, 1, 1, 1, 1, 3, 1, 3,\n",
       "       3, 3, 3, 2, 3, 3, 1, 0, 2, 2, 0, 1, 3, 3, 2, 1, 1, 0, 3, 1, 0, 0,\n",
       "       0, 1, 1, 2, 1, 3, 3, 0, 0, 1, 3, 0, 3, 2, 2, 1, 2, 3, 3, 2, 0, 1,\n",
       "       0, 1, 1, 1, 0, 3, 1, 0, 2, 1, 0, 1, 1, 3, 2, 0, 1, 1, 1, 2, 2, 3,\n",
       "       1, 0, 2, 0, 1, 3, 3, 2, 0, 1, 2, 0, 2, 1, 1, 1, 3, 1, 0, 0, 2, 2,\n",
       "       2, 2, 1, 2, 3, 3, 1, 2, 3, 2, 3, 3, 0, 0, 2, 2, 2, 2, 0, 0, 2, 2,\n",
       "       3, 1, 0, 0, 0, 0, 0, 0, 2, 2, 3, 3, 3, 0, 0, 0, 1, 2, 2, 3, 0, 3,\n",
       "       2, 3, 1, 1, 1, 0, 0, 3, 3, 0, 2, 0, 0, 2, 3, 3, 2, 2, 3, 2, 3, 0,\n",
       "       0, 2, 2, 2, 2, 1, 0, 0, 1, 1, 1, 2, 0, 0, 2, 0, 0, 1, 0, 0, 2, 0,\n",
       "       3, 3, 0, 0, 3, 2, 2, 3, 2, 3, 1, 0, 3, 3, 2, 3, 0, 3, 2, 3, 3, 1,\n",
       "       2, 2, 0, 2, 0, 2, 2, 2, 2, 3, 0, 1, 3, 2, 0, 2])"
      ]
     },
     "execution_count": 27,
     "metadata": {},
     "output_type": "execute_result"
    }
   ],
   "source": [
    "labels\n"
   ]
  },
  {
   "cell_type": "code",
   "execution_count": 28,
   "id": "0675f607",
   "metadata": {},
   "outputs": [],
   "source": [
    "from sklearn.metrics import classification_report,confusion_matrix,accuracy_score,f1_score,plot_confusion_matrix"
   ]
  },
  {
   "cell_type": "code",
   "execution_count": 29,
   "id": "3c670646",
   "metadata": {},
   "outputs": [
    {
     "name": "stdout",
     "output_type": "stream",
     "text": [
      "[[  0   0 125   0]\n",
      " [  0 125   0   0]\n",
      " [125   0   0   0]\n",
      " [  0   0   0 125]]\n"
     ]
    }
   ],
   "source": [
    "print(confusion_matrix(y,labels))"
   ]
  },
  {
   "cell_type": "code",
   "execution_count": 30,
   "id": "59354d24",
   "metadata": {},
   "outputs": [
    {
     "name": "stdout",
     "output_type": "stream",
     "text": [
      "              precision    recall  f1-score   support\n",
      "\n",
      "           0       0.00      0.00      0.00       125\n",
      "           1       1.00      1.00      1.00       125\n",
      "           2       0.00      0.00      0.00       125\n",
      "           3       1.00      1.00      1.00       125\n",
      "\n",
      "    accuracy                           0.50       500\n",
      "   macro avg       0.50      0.50      0.50       500\n",
      "weighted avg       0.50      0.50      0.50       500\n",
      "\n"
     ]
    }
   ],
   "source": [
    "print(classification_report(y,labels))"
   ]
  },
  {
   "cell_type": "code",
   "execution_count": null,
   "id": "8b6a1300",
   "metadata": {},
   "outputs": [],
   "source": []
  }
 ],
 "metadata": {
  "kernelspec": {
   "display_name": "Python 3",
   "language": "python",
   "name": "python3"
  },
  "language_info": {
   "codemirror_mode": {
    "name": "ipython",
    "version": 3
   },
   "file_extension": ".py",
   "mimetype": "text/x-python",
   "name": "python",
   "nbconvert_exporter": "python",
   "pygments_lexer": "ipython3",
   "version": "3.8.8"
  }
 },
 "nbformat": 4,
 "nbformat_minor": 5
}
