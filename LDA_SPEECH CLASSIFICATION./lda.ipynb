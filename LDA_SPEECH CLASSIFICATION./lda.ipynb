{
 "cells": [
  {
   "cell_type": "code",
   "execution_count": 1,
   "id": "3afdff06",
   "metadata": {},
   "outputs": [],
   "source": [
    "import pandas as pd\n",
    "import numpy as np\n",
    "import matplotlib.pyplot as plt\n",
    "import seaborn\n",
    "from sklearn.datasets import load_iris\n",
    "from sklearn.discriminant_analysis import LinearDiscriminantAnalysis"
   ]
  },
  {
   "cell_type": "code",
   "execution_count": 2,
   "id": "fc77f598",
   "metadata": {},
   "outputs": [],
   "source": [
    "iris = load_iris()"
   ]
  },
  {
   "cell_type": "code",
   "execution_count": 4,
   "id": "6553bddd",
   "metadata": {},
   "outputs": [],
   "source": [
    "df = pd.DataFrame(data= np.c_[iris['data'], iris['target'].astype('int32')],\n",
    "                     columns= iris['feature_names'] + ['target'])"
   ]
  },
  {
   "cell_type": "code",
   "execution_count": 5,
   "id": "945e1fe8",
   "metadata": {},
   "outputs": [
    {
     "data": {
      "text/html": [
       "<div>\n",
       "<style scoped>\n",
       "    .dataframe tbody tr th:only-of-type {\n",
       "        vertical-align: middle;\n",
       "    }\n",
       "\n",
       "    .dataframe tbody tr th {\n",
       "        vertical-align: top;\n",
       "    }\n",
       "\n",
       "    .dataframe thead th {\n",
       "        text-align: right;\n",
       "    }\n",
       "</style>\n",
       "<table border=\"1\" class=\"dataframe\">\n",
       "  <thead>\n",
       "    <tr style=\"text-align: right;\">\n",
       "      <th></th>\n",
       "      <th>sepal length (cm)</th>\n",
       "      <th>sepal width (cm)</th>\n",
       "      <th>petal length (cm)</th>\n",
       "      <th>petal width (cm)</th>\n",
       "      <th>target</th>\n",
       "    </tr>\n",
       "  </thead>\n",
       "  <tbody>\n",
       "    <tr>\n",
       "      <th>0</th>\n",
       "      <td>5.1</td>\n",
       "      <td>3.5</td>\n",
       "      <td>1.4</td>\n",
       "      <td>0.2</td>\n",
       "      <td>0.0</td>\n",
       "    </tr>\n",
       "    <tr>\n",
       "      <th>1</th>\n",
       "      <td>4.9</td>\n",
       "      <td>3.0</td>\n",
       "      <td>1.4</td>\n",
       "      <td>0.2</td>\n",
       "      <td>0.0</td>\n",
       "    </tr>\n",
       "    <tr>\n",
       "      <th>2</th>\n",
       "      <td>4.7</td>\n",
       "      <td>3.2</td>\n",
       "      <td>1.3</td>\n",
       "      <td>0.2</td>\n",
       "      <td>0.0</td>\n",
       "    </tr>\n",
       "    <tr>\n",
       "      <th>3</th>\n",
       "      <td>4.6</td>\n",
       "      <td>3.1</td>\n",
       "      <td>1.5</td>\n",
       "      <td>0.2</td>\n",
       "      <td>0.0</td>\n",
       "    </tr>\n",
       "    <tr>\n",
       "      <th>4</th>\n",
       "      <td>5.0</td>\n",
       "      <td>3.6</td>\n",
       "      <td>1.4</td>\n",
       "      <td>0.2</td>\n",
       "      <td>0.0</td>\n",
       "    </tr>\n",
       "  </tbody>\n",
       "</table>\n",
       "</div>"
      ],
      "text/plain": [
       "   sepal length (cm)  sepal width (cm)  petal length (cm)  petal width (cm)  \\\n",
       "0                5.1               3.5                1.4               0.2   \n",
       "1                4.9               3.0                1.4               0.2   \n",
       "2                4.7               3.2                1.3               0.2   \n",
       "3                4.6               3.1                1.5               0.2   \n",
       "4                5.0               3.6                1.4               0.2   \n",
       "\n",
       "   target  \n",
       "0     0.0  \n",
       "1     0.0  \n",
       "2     0.0  \n",
       "3     0.0  \n",
       "4     0.0  "
      ]
     },
     "execution_count": 5,
     "metadata": {},
     "output_type": "execute_result"
    }
   ],
   "source": [
    "df.head()\n"
   ]
  },
  {
   "cell_type": "code",
   "execution_count": 6,
   "id": "aa795551",
   "metadata": {},
   "outputs": [
    {
     "name": "stdout",
     "output_type": "stream",
     "text": [
      "sepal length (cm)    float64\n",
      "sepal width (cm)     float64\n",
      "petal length (cm)    float64\n",
      "petal width (cm)     float64\n",
      "target                 int32\n",
      "dtype: object\n"
     ]
    }
   ],
   "source": [
    "\n",
    "convert_dict = {'target': int}\n",
    "  \n",
    "df = df.astype(convert_dict)\n",
    "print(df.dtypes)"
   ]
  },
  {
   "cell_type": "code",
   "execution_count": 7,
   "id": "46435a2c",
   "metadata": {},
   "outputs": [
    {
     "data": {
      "text/html": [
       "<div>\n",
       "<style scoped>\n",
       "    .dataframe tbody tr th:only-of-type {\n",
       "        vertical-align: middle;\n",
       "    }\n",
       "\n",
       "    .dataframe tbody tr th {\n",
       "        vertical-align: top;\n",
       "    }\n",
       "\n",
       "    .dataframe thead th {\n",
       "        text-align: right;\n",
       "    }\n",
       "</style>\n",
       "<table border=\"1\" class=\"dataframe\">\n",
       "  <thead>\n",
       "    <tr style=\"text-align: right;\">\n",
       "      <th></th>\n",
       "      <th>sepal length (cm)</th>\n",
       "      <th>sepal width (cm)</th>\n",
       "      <th>petal length (cm)</th>\n",
       "      <th>petal width (cm)</th>\n",
       "      <th>target</th>\n",
       "    </tr>\n",
       "  </thead>\n",
       "  <tbody>\n",
       "    <tr>\n",
       "      <th>count</th>\n",
       "      <td>150.000000</td>\n",
       "      <td>150.000000</td>\n",
       "      <td>150.000000</td>\n",
       "      <td>150.000000</td>\n",
       "      <td>150.000000</td>\n",
       "    </tr>\n",
       "    <tr>\n",
       "      <th>mean</th>\n",
       "      <td>5.843333</td>\n",
       "      <td>3.057333</td>\n",
       "      <td>3.758000</td>\n",
       "      <td>1.199333</td>\n",
       "      <td>1.000000</td>\n",
       "    </tr>\n",
       "    <tr>\n",
       "      <th>std</th>\n",
       "      <td>0.828066</td>\n",
       "      <td>0.435866</td>\n",
       "      <td>1.765298</td>\n",
       "      <td>0.762238</td>\n",
       "      <td>0.819232</td>\n",
       "    </tr>\n",
       "    <tr>\n",
       "      <th>min</th>\n",
       "      <td>4.300000</td>\n",
       "      <td>2.000000</td>\n",
       "      <td>1.000000</td>\n",
       "      <td>0.100000</td>\n",
       "      <td>0.000000</td>\n",
       "    </tr>\n",
       "    <tr>\n",
       "      <th>25%</th>\n",
       "      <td>5.100000</td>\n",
       "      <td>2.800000</td>\n",
       "      <td>1.600000</td>\n",
       "      <td>0.300000</td>\n",
       "      <td>0.000000</td>\n",
       "    </tr>\n",
       "    <tr>\n",
       "      <th>50%</th>\n",
       "      <td>5.800000</td>\n",
       "      <td>3.000000</td>\n",
       "      <td>4.350000</td>\n",
       "      <td>1.300000</td>\n",
       "      <td>1.000000</td>\n",
       "    </tr>\n",
       "    <tr>\n",
       "      <th>75%</th>\n",
       "      <td>6.400000</td>\n",
       "      <td>3.300000</td>\n",
       "      <td>5.100000</td>\n",
       "      <td>1.800000</td>\n",
       "      <td>2.000000</td>\n",
       "    </tr>\n",
       "    <tr>\n",
       "      <th>max</th>\n",
       "      <td>7.900000</td>\n",
       "      <td>4.400000</td>\n",
       "      <td>6.900000</td>\n",
       "      <td>2.500000</td>\n",
       "      <td>2.000000</td>\n",
       "    </tr>\n",
       "  </tbody>\n",
       "</table>\n",
       "</div>"
      ],
      "text/plain": [
       "       sepal length (cm)  sepal width (cm)  petal length (cm)  \\\n",
       "count         150.000000        150.000000         150.000000   \n",
       "mean            5.843333          3.057333           3.758000   \n",
       "std             0.828066          0.435866           1.765298   \n",
       "min             4.300000          2.000000           1.000000   \n",
       "25%             5.100000          2.800000           1.600000   \n",
       "50%             5.800000          3.000000           4.350000   \n",
       "75%             6.400000          3.300000           5.100000   \n",
       "max             7.900000          4.400000           6.900000   \n",
       "\n",
       "       petal width (cm)      target  \n",
       "count        150.000000  150.000000  \n",
       "mean           1.199333    1.000000  \n",
       "std            0.762238    0.819232  \n",
       "min            0.100000    0.000000  \n",
       "25%            0.300000    0.000000  \n",
       "50%            1.300000    1.000000  \n",
       "75%            1.800000    2.000000  \n",
       "max            2.500000    2.000000  "
      ]
     },
     "execution_count": 7,
     "metadata": {},
     "output_type": "execute_result"
    }
   ],
   "source": [
    "df.describe()"
   ]
  },
  {
   "cell_type": "code",
   "execution_count": 8,
   "id": "fb8c9375",
   "metadata": {},
   "outputs": [
    {
     "data": {
      "text/plain": [
       "array(['setosa', 'versicolor', 'virginica'], dtype='<U10')"
      ]
     },
     "execution_count": 8,
     "metadata": {},
     "output_type": "execute_result"
    }
   ],
   "source": [
    "iris.target_names"
   ]
  },
  {
   "cell_type": "code",
   "execution_count": 9,
   "id": "a9aef846",
   "metadata": {},
   "outputs": [
    {
     "data": {
      "text/plain": [
       "<AxesSubplot:xlabel='sepal length (cm)', ylabel='sepal width (cm)'>"
      ]
     },
     "execution_count": 9,
     "metadata": {},
     "output_type": "execute_result"
    },
    {
     "data": {
      "image/png": "[encoded data removed]",
      "text/plain": [
       "<Figure size 432x288 with 1 Axes>"
      ]
     },
     "metadata": {
      "needs_background": "light"
     },
     "output_type": "display_data"
    }
   ],
   "source": [
    "df.plot(kind='scatter',x = 'sepal length (cm)',y = 'sepal width (cm)')"
   ]
  },
  {
   "cell_type": "code",
   "execution_count": 10,
   "id": "153d718e",
   "metadata": {},
   "outputs": [
    {
     "data": {
      "image/png": "[encoded data removed]",
      "text/plain": [
       "<Figure size 432x288 with 1 Axes>"
      ]
     },
     "metadata": {
      "needs_background": "light"
     },
     "output_type": "display_data"
    }
   ],
   "source": [
    "from pandas.plotting import andrews_curves\n",
    "andrews_curves(df, \"target\")\n",
    "plt.show()"
   ]
  },
  {
   "cell_type": "code",
   "execution_count": 11,
   "id": "d77790e3",
   "metadata": {},
   "outputs": [],
   "source": [
    "X = df.iloc[:,:-1]\n",
    "y = df.iloc[:,-1]"
   ]
  },
  {
   "cell_type": "code",
   "execution_count": 12,
   "id": "3619b7cf",
   "metadata": {},
   "outputs": [],
   "source": [
    "from sklearn.model_selection import train_test_split\n",
    "X_train,X_test,y_train,y_test = train_test_split(X,y,random_state=0,test_size=0.2)"
   ]
  },
  {
   "cell_type": "code",
   "execution_count": 13,
   "id": "dc2dea31",
   "metadata": {},
   "outputs": [],
   "source": [
    "LDA = LinearDiscriminantAnalysis()"
   ]
  },
  {
   "cell_type": "code",
   "execution_count": 14,
   "id": "1b0bcceb",
   "metadata": {
    "collapsed": true
   },
   "outputs": [
    {
     "data": {
      "text/plain": [
       "array([[-4.84067405e+00, -7.13324053e-02],\n",
       "       [-2.88211420e+00, -4.17209189e-01],\n",
       "       [ 8.03567978e+00,  3.26956961e-01],\n",
       "       [-3.89470618e+00,  3.43586495e-01],\n",
       "       [-6.54983828e+00,  4.36394017e-01],\n",
       "       [-1.82070045e+00, -6.25866457e-01],\n",
       "       [ 8.21194998e+00,  1.20115073e+00],\n",
       "       [-4.30852939e+00, -1.12714254e+00],\n",
       "       [-1.66771952e+00,  2.26835893e-01],\n",
       "       [-1.01440565e+00, -1.22446189e+00],\n",
       "       [-5.37006829e+00,  8.50646310e-01],\n",
       "       [ 7.58761392e+00, -2.47420268e-01],\n",
       "       [-4.75387262e+00,  2.19866333e+00],\n",
       "       [ 6.50901627e+00,  1.29397869e+00],\n",
       "       [ 8.50417325e+00,  8.08781352e-01],\n",
       "       [-9.27465186e-01, -2.74060499e+00],\n",
       "       [-4.86682499e+00, -2.06868090e-01],\n",
       "       [-6.63347246e+00,  2.30816018e+00],\n",
       "       [-4.45634285e+00, -2.24121085e+00],\n",
       "       [-6.00387858e+00, -1.42321508e+00],\n",
       "       [-8.49519549e-01, -1.69101095e+00],\n",
       "       [-6.36553895e+00,  1.16326609e+00],\n",
       "       [-2.28965242e+00,  6.67737607e-01],\n",
       "       [-8.52381217e-01, -1.80505521e+00],\n",
       "       [-4.07720690e+00, -1.15708814e-01],\n",
       "       [-3.59439120e+00, -1.08067038e+00],\n",
       "       [-4.59693919e+00, -1.02213708e+00],\n",
       "       [-4.84078530e+00, -3.19208084e-01],\n",
       "       [-1.14792466e+00,  2.48698368e-01],\n",
       "       [-4.71626112e+00,  7.73368802e-01],\n",
       "       [-2.00882714e+00,  9.51632649e-01],\n",
       "       [ 6.86730778e+00, -7.63559756e-01],\n",
       "       [-5.33201217e+00, -3.33069417e-01],\n",
       "       [-1.82686840e+00, -1.09553378e+00],\n",
       "       [-1.78160328e-01,  4.21217045e-02],\n",
       "       [-1.72854384e+00, -1.27093405e+00],\n",
       "       [-2.11336833e+00, -4.75075878e-01],\n",
       "       [-5.03501737e+00, -9.59420926e-02],\n",
       "       [ 8.40012535e+00,  7.56093097e-01],\n",
       "       [ 7.64559046e+00, -8.80701846e-01],\n",
       "       [-5.17049493e+00, -2.70675752e-01],\n",
       "       [-1.06042833e+00, -7.77990251e-01],\n",
       "       [ 7.65080661e+00, -9.62633649e-03],\n",
       "       [ 9.18411747e+00,  2.88404679e+00],\n",
       "       [-2.11673719e+00,  5.38668477e-02],\n",
       "       [ 6.89059706e+00, -7.42068333e-01],\n",
       "       [-4.56557210e+00, -1.55258856e-02],\n",
       "       [ 7.12706562e-01, -8.12640815e-01],\n",
       "       [ 7.24078297e+00,  2.49287966e-01],\n",
       "       [-3.09132173e+00, -1.50149466e+00],\n",
       "       [-6.64817673e+00,  2.62880154e+00],\n",
       "       [-1.46242283e+00, -6.66397647e-01],\n",
       "       [ 7.47167474e+00, -9.97864371e-01],\n",
       "       [-5.98346486e+00,  5.01239339e-01],\n",
       "       [-6.01198418e+00,  1.62567966e+00],\n",
       "       [-6.64816284e+00,  6.11794283e-01],\n",
       "       [-6.27804261e+00,  1.36577473e-01],\n",
       "       [ 8.09084333e+00,  7.12072591e-01],\n",
       "       [ 7.25790430e+00, -1.98887936e-01],\n",
       "       [-4.22447838e+00,  1.27668462e+00],\n",
       "       [-5.54628980e+00,  1.10889400e+00],\n",
       "       [ 5.93593293e+00, -1.74699570e+00],\n",
       "       [-5.78576657e+00,  2.01391356e+00],\n",
       "       [ 7.30392697e+00, -6.45359571e-01],\n",
       "       [-5.73686834e+00, -3.35521074e-01],\n",
       "       [-4.90443649e+00,  1.21842644e+00],\n",
       "       [ 7.27547023e+00, -4.05485035e-01],\n",
       "       [ 8.18916789e+00,  5.36672324e-01],\n",
       "       [-4.28905359e+00, -8.18287192e-01],\n",
       "       [ 7.89122129e+00,  7.00953184e-01],\n",
       "       [ 7.01507256e+00, -7.81932915e-01],\n",
       "       [ 7.75820947e+00,  1.53112645e+00],\n",
       "       [-1.98894151e+00, -1.64738193e+00],\n",
       "       [-6.57880220e+00,  1.31925554e+00],\n",
       "       [-7.08292084e+00, -1.23394925e-01],\n",
       "       [ 8.16301695e+00,  4.01136640e-01],\n",
       "       [ 7.20274074e+00, -5.84003566e-01],\n",
       "       [ 8.13686601e+00,  2.65600956e-01],\n",
       "       [-2.28677686e+00, -1.23522539e+00],\n",
       "       [-1.13035872e+00,  4.21012691e-02],\n",
       "       [ 8.13114267e+00,  3.75124334e-02],\n",
       "       [ 6.39307709e+00,  5.43534589e-01],\n",
       "       [-9.65472621e-01, -4.24447792e-01],\n",
       "       [ 7.56998541e+00,  8.43742621e-01],\n",
       "       [-8.73741482e+00, -6.04573144e-01],\n",
       "       [-4.79476007e-02, -1.78666161e+00],\n",
       "       [-4.99462066e+00,  1.49438069e+00],\n",
       "       [-8.96111987e-01,  2.83013465e-01],\n",
       "       [ 9.08866847e+00,  1.15648406e+00],\n",
       "       [-3.76736901e+00,  4.17766174e-01],\n",
       "       [ 1.00051165e+01,  1.96481000e+00],\n",
       "       [-7.19886003e+00, -8.73839028e-01],\n",
       "       [ 8.05043274e+00,  1.13875707e+00],\n",
       "       [ 6.89345873e+00, -6.28024072e-01],\n",
       "       [-5.85089766e+00, -5.70512732e-01],\n",
       "       [ 7.79857138e+00, -2.79994956e-02],\n",
       "       [-6.41628447e+00,  2.11268249e+00],\n",
       "       [-1.36123660e+00, -7.27753652e-01],\n",
       "       [-6.52821745e-01, -9.09370012e-01],\n",
       "       [ 5.82063109e-01, -1.24244356e+00],\n",
       "       [-5.60668339e+00,  1.86971012e+00],\n",
       "       [-5.32355231e+00,  1.77819495e+00],\n",
       "       [-3.52221759e+00, -1.39160633e+00],\n",
       "       [-3.23000821e+00,  2.33031550e-01],\n",
       "       [ 6.94520474e+00, -8.46407185e-01],\n",
       "       [-3.49200489e-01, -1.97800382e+00],\n",
       "       [-6.39068940e+00,  1.75876369e+00],\n",
       "       [-5.33201217e+00, -3.33069417e-01],\n",
       "       [ 7.80143305e+00,  8.60447655e-02],\n",
       "       [-1.45153203e+00, -6.99675084e-01],\n",
       "       [-1.20488682e+00, -4.03994028e-01],\n",
       "       [-3.61101923e+00,  7.41525798e-01],\n",
       "       [-2.08209861e+00, -1.73334762e+00],\n",
       "       [ 8.81059360e+00,  7.38757597e-01],\n",
       "       [ 7.64843824e+00,  1.25034967e+00],\n",
       "       [ 7.47453641e+00, -8.83820110e-01],\n",
       "       [-5.43650468e+00, -6.27336475e-01],\n",
       "       [-5.72000551e-01, -1.76273897e+00],\n",
       "       [-6.44046298e+00,  1.60803346e+00],\n",
       "       [ 7.25218096e+00, -4.26976458e-01]])"
      ]
     },
     "execution_count": 14,
     "metadata": {},
     "output_type": "execute_result"
    }
   ],
   "source": [
    "LDA.fit_transform(X_train,y_train)"
   ]
  },
  {
   "cell_type": "code",
   "execution_count": 15,
   "id": "0405842e",
   "metadata": {},
   "outputs": [],
   "source": [
    "pred = LDA.predict(X_test)"
   ]
  },
  {
   "cell_type": "code",
   "execution_count": 16,
   "id": "442493b2",
   "metadata": {},
   "outputs": [
    {
     "data": {
      "text/plain": [
       "array([2, 1, 0, 2, 0, 2, 0, 1, 1, 1, 2, 1, 1, 1, 1, 0, 1, 1, 0, 0, 2, 1,\n",
       "       0, 0, 2, 0, 0, 1, 1, 0])"
      ]
     },
     "execution_count": 16,
     "metadata": {},
     "output_type": "execute_result"
    }
   ],
   "source": [
    "pred"
   ]
  },
  {
   "cell_type": "code",
   "execution_count": 17,
   "id": "3c763acd",
   "metadata": {},
   "outputs": [],
   "source": [
    "from sklearn.metrics import accuracy_score,confusion_matrix,classification_report"
   ]
  },
  {
   "cell_type": "code",
   "execution_count": 18,
   "id": "9885ffca",
   "metadata": {},
   "outputs": [
    {
     "name": "stdout",
     "output_type": "stream",
     "text": [
      "1.0\n"
     ]
    }
   ],
   "source": [
    "print(accuracy_score(y_test,pred))"
   ]
  },
  {
   "cell_type": "code",
   "execution_count": 19,
   "id": "63d4df44",
   "metadata": {},
   "outputs": [
    {
     "name": "stdout",
     "output_type": "stream",
     "text": [
      "              precision    recall  f1-score   support\n",
      "\n",
      "           0       1.00      1.00      1.00        11\n",
      "           1       1.00      1.00      1.00        13\n",
      "           2       1.00      1.00      1.00         6\n",
      "\n",
      "    accuracy                           1.00        30\n",
      "   macro avg       1.00      1.00      1.00        30\n",
      "weighted avg       1.00      1.00      1.00        30\n",
      "\n"
     ]
    }
   ],
   "source": [
    "print(classification_report(y_test,pred))"
   ]
  },
  {
   "cell_type": "code",
   "execution_count": 20,
   "id": "5fc7920d",
   "metadata": {},
   "outputs": [
    {
     "name": "stdout",
     "output_type": "stream",
     "text": [
      "[[11  0  0]\n",
      " [ 0 13  0]\n",
      " [ 0  0  6]]\n"
     ]
    }
   ],
   "source": [
    "print(confusion_matrix(y_test,pred))"
   ]
  },
  {
   "cell_type": "code",
   "execution_count": 21,
   "id": "7285872c",
   "metadata": {},
   "outputs": [],
   "source": [
    "from sklearn.linear_model import LogisticRegression\n",
    "import warnings"
   ]
  },
  {
   "cell_type": "code",
   "execution_count": 22,
   "id": "696f6d52",
   "metadata": {},
   "outputs": [
    {
     "name": "stderr",
     "output_type": "stream",
     "text": [
      "C:\\Users\\dell\\anaconda3\\lib\\site-packages\\sklearn\\linear_model\\_logistic.py:814: ConvergenceWarning: lbfgs failed to converge (status=1):\n",
      "STOP: TOTAL NO. of ITERATIONS REACHED LIMIT.\n",
      "\n",
      "Increase the number of iterations (max_iter) or scale the data as shown in:\n",
      "    https://scikit-learn.org/stable/modules/preprocessing.html\n",
      "Please also refer to the documentation for alternative solver options:\n",
      "    https://scikit-learn.org/stable/modules/linear_model.html#logistic-regression\n",
      "  n_iter_i = _check_optimize_result(\n"
     ]
    }
   ],
   "source": [
    "clf = LogisticRegression()\n",
    "clf.fit(X_train,y_train)\n",
    "pred1 = clf.predict(X_test)"
   ]
  },
  {
   "cell_type": "code",
   "execution_count": 23,
   "id": "99beb570",
   "metadata": {},
   "outputs": [
    {
     "data": {
      "text/plain": [
       "array([2, 1, 0, 2, 0, 2, 0, 1, 1, 1, 2, 1, 1, 1, 1, 0, 1, 1, 0, 0, 2, 1,\n",
       "       0, 0, 2, 0, 0, 1, 1, 0])"
      ]
     },
     "execution_count": 23,
     "metadata": {},
     "output_type": "execute_result"
    }
   ],
   "source": [
    "\n",
    "pred1"
   ]
  },
  {
   "cell_type": "code",
   "execution_count": 24,
   "id": "8ed922f6",
   "metadata": {},
   "outputs": [
    {
     "name": "stdout",
     "output_type": "stream",
     "text": [
      "1.0\n"
     ]
    }
   ],
   "source": [
    "print(accuracy_score(y_test,pred1))"
   ]
  },
  {
   "cell_type": "code",
   "execution_count": null,
   "id": "34d29fa3",
   "metadata": {},
   "outputs": [],
   "source": []
  }
 ],
 "metadata": {
  "kernelspec": {
   "display_name": "Python 3",
   "language": "python",
   "name": "python3"
  },
  "language_info": {
   "codemirror_mode": {
    "name": "ipython",
    "version": 3
   },
   "file_extension": ".py",
   "mimetype": "text/x-python",
   "name": "python",
   "nbconvert_exporter": "python",
   "pygments_lexer": "ipython3",
   "version": "3.8.8"
  }
 },
 "nbformat": 4,
 "nbformat_minor": 5
}
